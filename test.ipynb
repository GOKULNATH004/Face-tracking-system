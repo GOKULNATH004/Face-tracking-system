{
 "cells": [
  {
   "cell_type": "code",
   "execution_count": 3,
   "id": "f45eddaf",
   "metadata": {},
   "outputs": [
    {
     "name": "stdout",
     "output_type": "stream",
     "text": [
      "✅ CUDA is available.\n",
      "🔹 GPU Name: NVIDIA GeForce RTX 3050 Laptop GPU\n",
      "🔹 CUDA Version: 12.6\n",
      "🔹 GPU Memory Allocated: 141406208 bytes\n",
      "🔹 GPU Memory Cached: 239075328 bytes\n"
     ]
    }
   ],
   "source": [
    "import torch\n",
    "\n",
    "if torch.cuda.is_available():\n",
    "    print(\"✅ CUDA is available.\")\n",
    "    print(\"🔹 GPU Name:\", torch.cuda.get_device_name(0))\n",
    "    print(\"🔹 CUDA Version:\", torch.version.cuda)\n",
    "    print(\"🔹 GPU Memory Allocated:\", torch.cuda.memory_allocated(0), \"bytes\")\n",
    "    print(\"🔹 GPU Memory Cached:\", torch.cuda.memory_reserved(0), \"bytes\")\n",
    "else:\n",
    "    print(\"❌ CUDA is NOT available.\")\n"
   ]
  },
  {
   "cell_type": "code",
   "execution_count": 2,
   "id": "fea975ab",
   "metadata": {},
   "outputs": [
    {
     "name": "stdout",
     "output_type": "stream",
     "text": [
      "Requirement already satisfied: ultralytics in d:\\face_tracker\\venv\\lib\\site-packages (8.3.159)\n",
      "Requirement already satisfied: opencv-python in d:\\face_tracker\\venv\\lib\\site-packages (4.5.5.62)\n",
      "Requirement already satisfied: pandas>=1.1.4 in d:\\face_tracker\\venv\\lib\\site-packages (from ultralytics) (2.3.0)\n",
      "Requirement already satisfied: numpy>=1.23.0 in d:\\face_tracker\\venv\\lib\\site-packages (from ultralytics) (1.24.4)\n",
      "Requirement already satisfied: pyyaml>=5.3.1 in d:\\face_tracker\\venv\\lib\\site-packages (from ultralytics) (6.0.2)\n",
      "Requirement already satisfied: matplotlib>=3.3.0 in d:\\face_tracker\\venv\\lib\\site-packages (from ultralytics) (3.10.3)\n",
      "Requirement already satisfied: torch>=1.8.0 in d:\\face_tracker\\venv\\lib\\site-packages (from ultralytics) (2.7.1+cu126)\n",
      "Requirement already satisfied: py-cpuinfo in d:\\face_tracker\\venv\\lib\\site-packages (from ultralytics) (9.0.0)\n",
      "Collecting opencv-python\n",
      "  Using cached opencv_python-4.11.0.86-cp37-abi3-win_amd64.whl (39.5 MB)\n",
      "Requirement already satisfied: tqdm>=4.64.0 in d:\\face_tracker\\venv\\lib\\site-packages (from ultralytics) (4.67.1)\n",
      "Requirement already satisfied: psutil in d:\\face_tracker\\venv\\lib\\site-packages (from ultralytics) (7.0.0)\n",
      "Requirement already satisfied: ultralytics-thop>=2.0.0 in d:\\face_tracker\\venv\\lib\\site-packages (from ultralytics) (2.0.14)\n",
      "Requirement already satisfied: torchvision>=0.9.0 in d:\\face_tracker\\venv\\lib\\site-packages (from ultralytics) (0.22.1+cu126)\n",
      "Requirement already satisfied: pillow>=7.1.2 in d:\\face_tracker\\venv\\lib\\site-packages (from ultralytics) (11.0.0)\n",
      "Requirement already satisfied: scipy>=1.4.1 in d:\\face_tracker\\venv\\lib\\site-packages (from ultralytics) (1.15.3)\n",
      "Requirement already satisfied: requests>=2.23.0 in d:\\face_tracker\\venv\\lib\\site-packages (from ultralytics) (2.32.4)\n",
      "Requirement already satisfied: kiwisolver>=1.3.1 in d:\\face_tracker\\venv\\lib\\site-packages (from matplotlib>=3.3.0->ultralytics) (1.4.8)\n",
      "Requirement already satisfied: python-dateutil>=2.7 in d:\\face_tracker\\venv\\lib\\site-packages (from matplotlib>=3.3.0->ultralytics) (2.9.0.post0)\n",
      "Requirement already satisfied: fonttools>=4.22.0 in d:\\face_tracker\\venv\\lib\\site-packages (from matplotlib>=3.3.0->ultralytics) (4.58.4)\n",
      "Requirement already satisfied: contourpy>=1.0.1 in d:\\face_tracker\\venv\\lib\\site-packages (from matplotlib>=3.3.0->ultralytics) (1.3.2)\n",
      "Requirement already satisfied: pyparsing>=2.3.1 in d:\\face_tracker\\venv\\lib\\site-packages (from matplotlib>=3.3.0->ultralytics) (3.2.3)\n",
      "Requirement already satisfied: packaging>=20.0 in d:\\face_tracker\\venv\\lib\\site-packages (from matplotlib>=3.3.0->ultralytics) (25.0)\n",
      "Requirement already satisfied: cycler>=0.10 in d:\\face_tracker\\venv\\lib\\site-packages (from matplotlib>=3.3.0->ultralytics) (0.12.1)\n",
      "Requirement already satisfied: tzdata>=2022.7 in d:\\face_tracker\\venv\\lib\\site-packages (from pandas>=1.1.4->ultralytics) (2025.2)\n",
      "Requirement already satisfied: pytz>=2020.1 in d:\\face_tracker\\venv\\lib\\site-packages (from pandas>=1.1.4->ultralytics) (2025.2)\n",
      "Requirement already satisfied: six>=1.5 in d:\\face_tracker\\venv\\lib\\site-packages (from python-dateutil>=2.7->matplotlib>=3.3.0->ultralytics) (1.17.0)\n",
      "Requirement already satisfied: certifi>=2017.4.17 in d:\\face_tracker\\venv\\lib\\site-packages (from requests>=2.23.0->ultralytics) (2025.6.15)\n",
      "Requirement already satisfied: charset_normalizer<4,>=2 in d:\\face_tracker\\venv\\lib\\site-packages (from requests>=2.23.0->ultralytics) (3.4.2)\n",
      "Requirement already satisfied: idna<4,>=2.5 in d:\\face_tracker\\venv\\lib\\site-packages (from requests>=2.23.0->ultralytics) (3.10)\n",
      "Requirement already satisfied: urllib3<3,>=1.21.1 in d:\\face_tracker\\venv\\lib\\site-packages (from requests>=2.23.0->ultralytics) (2.5.0)\n",
      "Requirement already satisfied: filelock in d:\\face_tracker\\venv\\lib\\site-packages (from torch>=1.8.0->ultralytics) (3.13.1)\n",
      "Requirement already satisfied: sympy>=1.13.3 in d:\\face_tracker\\venv\\lib\\site-packages (from torch>=1.8.0->ultralytics) (1.13.3)\n",
      "Requirement already satisfied: networkx in d:\\face_tracker\\venv\\lib\\site-packages (from torch>=1.8.0->ultralytics) (3.3)\n",
      "Requirement already satisfied: fsspec in d:\\face_tracker\\venv\\lib\\site-packages (from torch>=1.8.0->ultralytics) (2024.6.1)\n",
      "Requirement already satisfied: typing-extensions>=4.10.0 in d:\\face_tracker\\venv\\lib\\site-packages (from torch>=1.8.0->ultralytics) (4.12.2)\n",
      "Requirement already satisfied: jinja2 in d:\\face_tracker\\venv\\lib\\site-packages (from torch>=1.8.0->ultralytics) (3.1.4)\n",
      "Requirement already satisfied: mpmath<1.4,>=1.1.0 in d:\\face_tracker\\venv\\lib\\site-packages (from sympy>=1.13.3->torch>=1.8.0->ultralytics) (1.3.0)\n",
      "Requirement already satisfied: colorama in d:\\face_tracker\\venv\\lib\\site-packages (from tqdm>=4.64.0->ultralytics) (0.4.6)\n",
      "Requirement already satisfied: MarkupSafe>=2.0 in d:\\face_tracker\\venv\\lib\\site-packages (from jinja2->torch>=1.8.0->ultralytics) (2.1.5)\n",
      "Installing collected packages: opencv-python\n",
      "  Attempting uninstall: opencv-python\n",
      "    Found existing installation: opencv-python 4.5.5.62\n",
      "    Uninstalling opencv-python-4.5.5.62:\n",
      "      Successfully uninstalled opencv-python-4.5.5.62\n",
      "Successfully installed opencv-python-4.11.0.86\n",
      "Note: you may need to restart the kernel to use updated packages.\n"
     ]
    },
    {
     "name": "stderr",
     "output_type": "stream",
     "text": [
      "WARNING: Ignoring invalid distribution -pencv-python (d:\\face_tracker\\venv\\lib\\site-packages)\n",
      "WARNING: Ignoring invalid distribution -pencv-python (d:\\face_tracker\\venv\\lib\\site-packages)\n",
      "WARNING: Ignoring invalid distribution -pencv-python (d:\\face_tracker\\venv\\lib\\site-packages)\n",
      "    WARNING: Ignoring invalid distribution -pencv-python (d:\\face_tracker\\venv\\lib\\site-packages)\n",
      "WARNING: Ignoring invalid distribution -pencv-python (d:\\face_tracker\\venv\\lib\\site-packages)\n",
      "WARNING: Ignoring invalid distribution -pencv-python (d:\\face_tracker\\venv\\lib\\site-packages)\n",
      "WARNING: Ignoring invalid distribution -pencv-python (d:\\face_tracker\\venv\\lib\\site-packages)\n",
      "WARNING: Ignoring invalid distribution -pencv-python (d:\\face_tracker\\venv\\lib\\site-packages)\n",
      "WARNING: You are using pip version 21.2.3; however, version 25.1.1 is available.\n",
      "You should consider upgrading via the 'd:\\Face_tracker\\venv\\Scripts\\python.exe -m pip install --upgrade pip' command.\n"
     ]
    }
   ],
   "source": [
    "pip install ultralytics opencv-python"
   ]
  },
  {
   "cell_type": "code",
   "execution_count": 4,
   "id": "c5cda29e",
   "metadata": {},
   "outputs": [
    {
     "name": "stdout",
     "output_type": "stream",
     "text": [
      "✅ Model loaded successfully!\n"
     ]
    }
   ],
   "source": [
    "from ultralytics import YOLO\n",
    "\n",
    "try:\n",
    "    model = YOLO(\"model/yolov8m-face-lindevs.pt\")\n",
    "    print(\"✅ Model loaded successfully!\")\n",
    "except Exception as e:\n",
    "    print(\"❌ Error loading model:\", e)\n"
   ]
  },
  {
   "cell_type": "code",
   "execution_count": 4,
   "id": "aa721d4c",
   "metadata": {},
   "outputs": [
    {
     "name": "stdout",
     "output_type": "stream",
     "text": [
      "Requirement already satisfied: numpy==1.24.4 in d:\\face_tracker\\venv\\lib\\site-packages (1.24.4)\n",
      "Note: you may need to restart the kernel to use updated packages.\n"
     ]
    },
    {
     "name": "stderr",
     "output_type": "stream",
     "text": [
      "WARNING: Ignoring invalid distribution -pencv-python (d:\\face_tracker\\venv\\lib\\site-packages)\n",
      "WARNING: Ignoring invalid distribution -pencv-python (d:\\face_tracker\\venv\\lib\\site-packages)\n",
      "WARNING: Ignoring invalid distribution -pencv-python (d:\\face_tracker\\venv\\lib\\site-packages)\n",
      "WARNING: Ignoring invalid distribution -pencv-python (d:\\face_tracker\\venv\\lib\\site-packages)\n",
      "WARNING: Ignoring invalid distribution -pencv-python (d:\\face_tracker\\venv\\lib\\site-packages)\n",
      "WARNING: Ignoring invalid distribution -pencv-python (d:\\face_tracker\\venv\\lib\\site-packages)\n",
      "WARNING: You are using pip version 21.2.3; however, version 25.1.1 is available.\n",
      "You should consider upgrading via the 'd:\\Face_tracker\\venv\\Scripts\\python.exe -m pip install --upgrade pip' command.\n"
     ]
    }
   ],
   "source": [
    "pip install numpy==1.24.4\n"
   ]
  },
  {
   "cell_type": "code",
   "execution_count": 5,
   "id": "9c43f078",
   "metadata": {},
   "outputs": [
    {
     "name": "stdout",
     "output_type": "stream",
     "text": [
      "Collecting opencv-python==4.5.5.62\n",
      "  Using cached opencv_python-4.5.5.62-cp36-abi3-win_amd64.whl (35.4 MB)\n",
      "Requirement already satisfied: numpy>=1.14.5 in d:\\face_tracker\\venv\\lib\\site-packages (from opencv-python==4.5.5.62) (1.24.4)\n",
      "Installing collected packages: opencv-python\n",
      "  Attempting uninstall: opencv-python\n",
      "    Found existing installation: opencv-python 4.11.0.86\n",
      "    Uninstalling opencv-python-4.11.0.86:\n",
      "      Successfully uninstalled opencv-python-4.11.0.86\n",
      "Note: you may need to restart the kernel to use updated packages.\n"
     ]
    },
    {
     "name": "stderr",
     "output_type": "stream",
     "text": [
      "WARNING: Ignoring invalid distribution -pencv-python (d:\\face_tracker\\venv\\lib\\site-packages)\n",
      "WARNING: Ignoring invalid distribution -pencv-python (d:\\face_tracker\\venv\\lib\\site-packages)\n",
      "WARNING: The candidate selected for download or install is a yanked version: 'opencv-python' candidate (version 4.5.5.62 at https://files.pythonhosted.org/packages/65/d4/0f4b0f72687780e3b4662e4a5323736d6c534e6914508e6239914c8d8515/opencv_python-4.5.5.62-cp36-abi3-win_amd64.whl#sha256=c463d2276d8662b972d20ca9644702188507de200ca5405b89e1fe71c5c99989 (from https://pypi.org/simple/opencv-python/) (requires-python:>=3.6))\n",
      "Reason for being yanked: deprecated, use 4.5.5.64\n",
      "WARNING: Ignoring invalid distribution -pencv-python (d:\\face_tracker\\venv\\lib\\site-packages)\n",
      "    WARNING: Ignoring invalid distribution -pencv-python (d:\\face_tracker\\venv\\lib\\site-packages)\n",
      "ERROR: Could not install packages due to an OSError: [WinError 5] Access is denied: 'D:\\\\Face_tracker\\\\venv\\\\Lib\\\\site-packages\\\\~-2\\\\cv2.pyd'\n",
      "Check the permissions.\n",
      "\n",
      "WARNING: Ignoring invalid distribution -pencv-python (d:\\face_tracker\\venv\\lib\\site-packages)\n",
      "WARNING: Ignoring invalid distribution -pencv-python (d:\\face_tracker\\venv\\lib\\site-packages)\n",
      "WARNING: Ignoring invalid distribution -pencv-python (d:\\face_tracker\\venv\\lib\\site-packages)\n",
      "WARNING: You are using pip version 21.2.3; however, version 25.1.1 is available.\n",
      "You should consider upgrading via the 'd:\\Face_tracker\\venv\\Scripts\\python.exe -m pip install --upgrade pip' command.\n"
     ]
    }
   ],
   "source": [
    "pip install opencv-python==4.5.5.62\n"
   ]
  },
  {
   "cell_type": "code",
   "execution_count": 2,
   "id": "631f4643",
   "metadata": {},
   "outputs": [
    {
     "name": "stdout",
     "output_type": "stream",
     "text": [
      "🎥 Video opened successfully!\n",
      "📐 Video resolution: 3840x2160\n"
     ]
    }
   ],
   "source": [
    "import cv2\n",
    "from ultralytics import YOLO\n",
    "\n",
    "# Load the YOLOv8 face detection model\n",
    "model = YOLO(\"model/yolov8m-face-lindevs.pt\")\n",
    "\n",
    "# Video path\n",
    "video_path = \"D:/Test Videos/Video Datasets/video_sample1.mp4\"\n",
    "cap = cv2.VideoCapture(video_path)\n",
    "\n",
    "if not cap.isOpened():\n",
    "    print(\"❌ Failed to open video.\")\n",
    "else:\n",
    "    print(\"🎥 Video opened successfully!\")\n",
    "\n",
    "# 🔍 Get video resolution (auto-resize display window)\n",
    "width = int(cap.get(cv2.CAP_PROP_FRAME_WIDTH))\n",
    "height = int(cap.get(cv2.CAP_PROP_FRAME_HEIGHT))\n",
    "print(f\"📐 Video resolution: {width}x{height}\")\n",
    "\n",
    "cv2.namedWindow(\"YOLOv8 Face Detection\", cv2.WINDOW_NORMAL)\n",
    "cv2.resizeWindow(\"YOLOv8 Face Detection\", width, height)\n",
    "\n",
    "while cap.isOpened():\n",
    "    ret, frame = cap.read()\n",
    "    if not ret:\n",
    "        break\n",
    "\n",
    "    # Predict\n",
    "    results = model.predict(source=frame, conf=0.3, verbose=False)\n",
    "\n",
    "    face_count = 0\n",
    "    for result in results:\n",
    "        for box in result.boxes:\n",
    "            x1, y1, x2, y2 = map(int, box.xyxy[0])\n",
    "            conf = float(box.conf[0])\n",
    "            cv2.rectangle(frame, (x1, y1), (x2, y2), (0, 255, 255), 2)\n",
    "            cv2.putText(frame, f\"{conf:.2f}\", (x1, y1 - 5),\n",
    "                        cv2.FONT_HERSHEY_SIMPLEX, 0.5, (0, 255, 255), 1)\n",
    "            face_count += 1\n",
    "\n",
    "    # Show face count on screen\n",
    "    cv2.putText(frame, f\"Faces detected: {face_count}\", (10, 30),\n",
    "                cv2.FONT_HERSHEY_SIMPLEX, 1.0, (0, 255, 0), 2)\n",
    "\n",
    "    # Display the result\n",
    "    cv2.imshow(\"YOLOv8 Face Detection\", frame)\n",
    "\n",
    "    if cv2.waitKey(1) & 0xFF == ord(\"q\"):\n",
    "        break\n",
    "\n",
    "cap.release()\n",
    "cv2.destroyAllWindows()\n"
   ]
  },
  {
   "cell_type": "code",
   "execution_count": 6,
   "id": "72e879db",
   "metadata": {},
   "outputs": [
    {
     "name": "stdout",
     "output_type": "stream",
     "text": [
      "(512,)\n",
      "[    -0.8987      1.6943      2.9542    0.062757     0.82021      1.7847     -3.0021    -0.62427     -1.2555     0.72704     0.51817     -1.8352     -0.4092     0.70487     0.74796    -0.36141      1.1607      2.7283    -0.29475     -1.1468      1.5313      0.7953    -0.20466     0.64992      -1.534     0.10514\n",
      "    -0.72517     0.10897     -1.0638      1.6912      1.5822     -1.2071     0.99525    -0.74687      3.2129     -1.4929     -1.4028      2.5392    -0.90387     0.27242     0.30382    -0.23562      1.9842     0.14079     0.87664     0.71315     -1.3929    -0.37769     -1.5889      1.6499    -0.89071     0.14244\n",
      "    -0.77055     0.91689    -0.76496     -1.0773     0.68351     -1.0051     0.74818    -0.26814    -0.79962    0.058624    -0.67165      0.7462     0.47571    -0.21818     -1.0433    -0.72116     0.48948    -0.68373    -0.12901     -3.3047      2.9543     0.14021     -1.3708     0.52785      1.4929     -1.3076\n",
      "     0.58258    -0.89952   -0.029834    -0.63609     -1.1386    -0.24965       1.416     -1.1401      -1.054      1.3609     0.53438    -0.45491   0.0037277    -0.23651     -1.3507     0.48651    -0.25108     0.48011      1.5162   -0.073369     0.69651    -0.43012      1.9114     -1.1223    -0.27154      2.1405\n",
      "      1.7957     -1.0961     -1.1118       3.013     0.82253    -0.20521    0.051614      1.5088      1.5838    -0.21685      1.2663     0.58366   -0.078081     0.29891     0.80089    -0.76925    -0.67212      1.2397      1.2276     -2.1225      1.8243        1.97   -0.016686     0.72236      0.3627     -1.8635\n",
      "   -0.037952      2.2162     -1.4384     0.88119    -0.61193     0.75409     0.65945      0.6383    -0.99511      1.2532     0.81529     0.64309     -1.6892      1.0096    -0.18729    -0.48047    -0.90224     0.99221    -0.42891     0.55942     0.84539     0.23736    -0.90095    -0.11759     -2.9656     -1.1153\n",
      "     -0.7988     -1.1929      1.2102     -3.0237     -2.0881    -0.16892     0.28076   -0.036757     -2.5378    -0.30414      1.2545    -0.81781       0.254    0.026424     0.65561     -2.5003     0.86916    0.053639    -0.93142    -0.10122    -0.72701    -0.41896      -1.168     0.60166    -0.79784    -0.51606\n",
      "    0.090967    -0.42915     0.16525     0.84024    -0.86215      1.2223    -0.94912      3.8513    -0.84146      1.4383     0.37256      1.8023   -0.035972     -1.1484    -0.63772      1.0021     -2.5912    0.061803     0.54608     -1.4099     0.37579    -0.72819     -1.0657     -1.5014     0.46647      1.7277\n",
      "      1.5087     0.38196     0.42838     0.44062    -0.96897     0.76584    -0.45655   -0.091727     -1.6446     0.51214    -0.85714     -1.1131    -0.10191     0.86222      1.1576      1.0239    -0.59905     -1.1711     -2.3502     -1.3466     0.14186    -0.79084      -1.604     0.42532      1.0598      1.3733\n",
      "     0.64917      3.0858    -0.28155     0.68117      1.4741    -0.71327      -2.089    0.018357     -1.9309     -1.4617    -0.34017       2.211      1.3029      0.4136     0.69337      1.3422     -1.2141    -0.32558    -0.15372    -0.38387       2.076    -0.81686     -1.9653     -1.3963      0.5968     -1.9233\n",
      "       1.109      0.8598     0.30554      2.3813     -1.7224      2.2734      -1.855      1.4114      1.3626      1.8464      1.4317     -2.9462     -2.1365      0.5686     0.93097     -1.1749     0.97821      1.9702    -0.64302    -0.15893    -0.78484     -1.2479    -0.36447     0.85758     -2.0467    -0.78217\n",
      "    -0.56371     0.36587     0.56145    -0.29496     0.90244      0.2933     -1.6857     0.67852      1.3856    -0.36347      1.4933     0.55442      1.6642       1.552     0.78187    -0.32047      1.1709      1.6218      2.4536     0.52977    0.037384    -0.77824    -0.06079     0.90346     -2.7521   -0.013114\n",
      "    -0.56104      2.4481     0.37205     0.35133    -0.99466     0.78994      0.6228     -1.3126      1.7362    -0.90374     -2.8793    -0.67141     -2.4215     0.15033      -1.791     -1.7388     -2.9734    -0.81145      2.1383     -1.6119      2.0115     0.20316    0.087644     -0.5384   -0.019162   -0.014762\n",
      "    -0.75233      1.3811     0.74721     0.86934      1.6771     0.73667    -0.80868   -0.042835       1.538    -0.77508    -0.64366     0.18905    -0.21226     0.70364     0.79484      2.1044       -1.72    -0.55981     -1.5807     0.58464      0.7096    -0.46793     -1.2648      -1.663     0.90395     -1.0188\n",
      "     0.53578     -2.3971    -0.60945     0.19365      0.1225     0.74727     0.47414     0.41416    -0.07999      1.2381    -0.29701    -0.25545    0.029945      2.4186    -0.13165     0.40232     0.74189      -1.853     -1.0746      1.1318     -2.5691     -1.3588     0.46532      2.3445    -0.28099     0.69269\n",
      "     0.96031     -1.1824      1.9362    -0.58639    -0.12794    -0.99642     0.63528     0.90072    -0.58604     0.75531     0.61259     0.38778    -0.65345     0.92655     0.58259    -0.25555     -1.5376      1.1501      1.4336     -3.2936    -0.51787      1.0074     -1.2899     0.22662     -2.0689    0.046133\n",
      "      2.1738    -0.99932    -0.93922     -1.3318     -1.6825    -0.73421     -0.6645     -1.1098     0.75441     -2.3357      0.5569     0.20544     0.98563     0.38099     0.26188    -0.42111    -0.68766      2.0671     -2.1527    -0.83336     0.37826     0.90537    -0.18326    -0.74834    -0.15459     0.60855\n",
      "       0.758     0.97644     -2.3433     0.99178     0.37596     -2.3242     0.47411   0.0039452     -1.5225    -0.95088    -0.94712      1.0886     -1.0341    -0.72257    -0.45208    -0.27462      2.0898      1.2947     0.32374      1.6182    -0.33854     -1.3983    0.086445     -1.1754    -0.29391       1.011\n",
      "     0.79694     0.24327     -1.8387     0.29166    -0.32012     0.38712      2.6297     -2.5498      -1.883      2.4073    -0.90496    0.099911    -0.76056      3.3797      2.3918    -0.49037    -0.74321    -0.71098    0.061054    -0.65478     -1.9835      1.1507    -0.62759     0.65254    -0.22442     0.59789\n",
      "      2.5524      1.7777    -0.79678     -0.6533    -0.60683      1.7191    -0.32565     -2.5758    -0.57352    -0.54825     0.50409    -0.99963      1.0702    -0.65799    -0.78923      1.5682      1.5165     0.69938]\n"
     ]
    }
   ],
   "source": [
    "import numpy as np\n",
    "\n",
    "embedding = np.load(\"embedding/face_1.npy\")\n",
    "print(embedding.shape)  # (512)\n",
    "print(embedding[:])\n"
   ]
  },
  {
   "cell_type": "code",
   "execution_count": 7,
   "id": "e1072c76",
   "metadata": {},
   "outputs": [
    {
     "name": "stdout",
     "output_type": "stream",
     "text": [
      "✅ Exported as face_events_export.csv\n"
     ]
    }
   ],
   "source": [
    "import sqlite3\n",
    "import pandas as pd\n",
    "\n",
    "conn = sqlite3.connect(\"database/face_events.db\")\n",
    "df = pd.read_sql_query(\"SELECT * FROM events\", conn)\n",
    "df.to_csv(\"face_events_export.csv\", index=False)\n",
    "print(\"✅ Exported as face_events_export.csv\")\n",
    "conn.close()\n"
   ]
  }
 ],
 "metadata": {
  "kernelspec": {
   "display_name": "venv",
   "language": "python",
   "name": "python3"
  },
  "language_info": {
   "codemirror_mode": {
    "name": "ipython",
    "version": 3
   },
   "file_extension": ".py",
   "mimetype": "text/x-python",
   "name": "python",
   "nbconvert_exporter": "python",
   "pygments_lexer": "ipython3",
   "version": "3.10.0"
  }
 },
 "nbformat": 4,
 "nbformat_minor": 5
}
